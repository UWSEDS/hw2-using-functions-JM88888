{
 "cells": [
  {
   "cell_type": "code",
   "execution_count": 43,
   "metadata": {},
   "outputs": [
    {
     "data": {
      "text/html": [
       "<div>\n",
       "<style scoped>\n",
       "    .dataframe tbody tr th:only-of-type {\n",
       "        vertical-align: middle;\n",
       "    }\n",
       "\n",
       "    .dataframe tbody tr th {\n",
       "        vertical-align: top;\n",
       "    }\n",
       "\n",
       "    .dataframe thead th {\n",
       "        text-align: right;\n",
       "    }\n",
       "</style>\n",
       "<table border=\"1\" class=\"dataframe\">\n",
       "  <thead>\n",
       "    <tr style=\"text-align: right;\">\n",
       "      <th></th>\n",
       "      <th>PermitClass</th>\n",
       "      <th>PermitClassMapped</th>\n",
       "      <th>PermitTypeDesc</th>\n",
       "    </tr>\n",
       "  </thead>\n",
       "  <tbody>\n",
       "    <tr>\n",
       "      <th>0</th>\n",
       "      <td>Single Family/Duplex</td>\n",
       "      <td>Residential</td>\n",
       "      <td>Addition/Alteration</td>\n",
       "    </tr>\n",
       "    <tr>\n",
       "      <th>1</th>\n",
       "      <td>Commercial</td>\n",
       "      <td>Non-Residential</td>\n",
       "      <td>Addition/Alteration</td>\n",
       "    </tr>\n",
       "    <tr>\n",
       "      <th>2</th>\n",
       "      <td>Commercial</td>\n",
       "      <td>Non-Residential</td>\n",
       "      <td>Addition/Alteration</td>\n",
       "    </tr>\n",
       "    <tr>\n",
       "      <th>3</th>\n",
       "      <td>Single Family/Duplex</td>\n",
       "      <td>Residential</td>\n",
       "      <td>Environmentally Critical Area Exemption</td>\n",
       "    </tr>\n",
       "    <tr>\n",
       "      <th>4</th>\n",
       "      <td>Multifamily</td>\n",
       "      <td>Residential</td>\n",
       "      <td>New</td>\n",
       "    </tr>\n",
       "  </tbody>\n",
       "</table>\n",
       "</div>"
      ],
      "text/plain": [
       "            PermitClass PermitClassMapped  \\\n",
       "0  Single Family/Duplex       Residential   \n",
       "1            Commercial   Non-Residential   \n",
       "2            Commercial   Non-Residential   \n",
       "3  Single Family/Duplex       Residential   \n",
       "4           Multifamily       Residential   \n",
       "\n",
       "                            PermitTypeDesc  \n",
       "0                      Addition/Alteration  \n",
       "1                      Addition/Alteration  \n",
       "2                      Addition/Alteration  \n",
       "3  Environmentally Critical Area Exemption  \n",
       "4                                      New  "
      ]
     },
     "execution_count": 43,
     "metadata": {},
     "output_type": "execute_result"
    }
   ],
   "source": [
    "import pandas as pd\n",
    "import numpy as np\n",
    "\n",
    "permits = pd.read_csv(\"https://data.seattle.gov/api/views/76t5-zqzr/rows.csv?accessType=DOWNLOAD\",\n",
    "                      usecols=[\"PermitClass\", \"PermitClassMapped\", \"PermitTypeDesc\"],\n",
    "                      dtype=object)\n",
    "permits.head()"
   ]
  },
  {
   "cell_type": "code",
   "execution_count": 46,
   "metadata": {},
   "outputs": [],
   "source": [
    "def test_create_dataframe(df):\n",
    "    '''(3 points) Create the function test_create_dataframe that takes a pandas DataFrame as input and returns True if the following conditions hold:\n",
    "   1. The DataFrame contains only the columns that you specified in #1.\n",
    "   1. The columns contain the correct data type\n",
    "   1. There are at least 10 rows in the DataFrame.\n",
    "'''\n",
    "    rows = np.size(df, 0)\n",
    "    columns = np.size(df, 1)\n",
    "    TorF = False\n",
    "    if columns == 3:\n",
    "        if rows >= 10:\n",
    "            for col in range(columns):\n",
    "                if df.iloc[:,0].dtype == object:\n",
    "                    TorF = True\n",
    "    return TorF"
   ]
  },
  {
   "cell_type": "code",
   "execution_count": 47,
   "metadata": {},
   "outputs": [
    {
     "data": {
      "text/plain": [
       "True"
      ]
     },
     "execution_count": 47,
     "metadata": {},
     "output_type": "execute_result"
    }
   ],
   "source": [
    "test_create_dataframe(permits)"
   ]
  },
  {
   "cell_type": "code",
   "execution_count": null,
   "metadata": {},
   "outputs": [],
   "source": []
  }
 ],
 "metadata": {
  "kernelspec": {
   "display_name": "Python 3",
   "language": "python",
   "name": "python3"
  },
  "language_info": {
   "codemirror_mode": {
    "name": "ipython",
    "version": 3
   },
   "file_extension": ".py",
   "mimetype": "text/x-python",
   "name": "python",
   "nbconvert_exporter": "python",
   "pygments_lexer": "ipython3",
   "version": "3.6.8"
  }
 },
 "nbformat": 4,
 "nbformat_minor": 2
}
