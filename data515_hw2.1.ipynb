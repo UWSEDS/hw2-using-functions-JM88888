{
 "cells": [
  {
   "cell_type": "code",
   "execution_count": 1,
   "metadata": {},
   "outputs": [],
   "source": [
    "import pandas as pd\n",
    "import numpy as np"
   ]
  },
  {
   "cell_type": "code",
   "execution_count": 17,
   "metadata": {},
   "outputs": [],
   "source": [
    "\"\"\"Import the Seattle building permits with columns of permit class, permit type and estimated project cost\"\"\"\n",
    "permits = pd.read_csv(\"https://data.seattle.gov/api/views/76t5-zqzr/rows.csv?accessType=DOWNLOAD\",\n",
    "                                       usecols=[\"PermitClass\", \"PermitTypeDesc\", \"EstProjectCost\"],\n",
    "                                       dtype={\"PermitClass\": object, \"PermitTypeDesc\": object, \"EstProjectCost\":float})"
   ]
  },
  {
   "cell_type": "code",
   "execution_count": 22,
   "metadata": {},
   "outputs": [],
   "source": [
    "def test_create_dataframe(df):\n",
    "    \"\"\"\n",
    "    Tests a dataframe and returns True if the following three conditions hold:\n",
    "   1. The DataFrame contains only the columns that you specified in part 1.\n",
    "   2. The columns contain the correct data type\n",
    "   3. There are at least 10 rows in the DataFrame.\n",
    "    \"\"\"\n",
    "    df_cols = [\"PermitClass\", \"PermitTypeDesc\", \"EstProjectCost\"]\n",
    "    check = df.columns == df_cols\n",
    "    if not all(check):\n",
    "        print(\"Column names not the same\")\n",
    "        return False\n",
    "\n",
    "    rows = np.size(df, 0)\n",
    "    if rows < 10:\n",
    "        print(\"Fewer than ten rows\")\n",
    "        return False\n",
    "\n",
    "    for col in range(len(df.columns)):\n",
    "        if permits[\"PermitClass\"].dtype != object:\n",
    "            print(\"PermitClass wrong data type\")\n",
    "            return False\n",
    "        elif permits[\"PermitTypeDesc\"].dtype != object:\n",
    "            print(\"PermitTypeDesc wrong data type\")\n",
    "            return False\n",
    "        elif permits[\"EstProjectCost\"].dtype != float:\n",
    "            print(\"EstProjectCost wrong data type\")\n",
    "            return False\n",
    "        else:\n",
    "            return True\n",
    "            \n",
    "            \n",
    "            "
   ]
  },
  {
   "cell_type": "code",
   "execution_count": 23,
   "metadata": {},
   "outputs": [
    {
     "data": {
      "text/plain": [
       "True"
      ]
     },
     "execution_count": 23,
     "metadata": {},
     "output_type": "execute_result"
    }
   ],
   "source": [
    "test_create_dataframe(permits)"
   ]
  },
  {
   "cell_type": "code",
   "execution_count": null,
   "metadata": {},
   "outputs": [],
   "source": []
  }
 ],
 "metadata": {
  "kernelspec": {
   "display_name": "Python 3",
   "language": "python",
   "name": "python3"
  },
  "language_info": {
   "codemirror_mode": {
    "name": "ipython",
    "version": 3
   },
   "file_extension": ".py",
   "mimetype": "text/x-python",
   "name": "python",
   "nbconvert_exporter": "python",
   "pygments_lexer": "ipython3",
   "version": "3.6.8"
  }
 },
 "nbformat": 4,
 "nbformat_minor": 2
}
